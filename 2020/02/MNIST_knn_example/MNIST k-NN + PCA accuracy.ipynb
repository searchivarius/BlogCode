{
 "cells": [
  {
   "cell_type": "code",
   "execution_count": 1,
   "metadata": {},
   "outputs": [],
   "source": [
    "from sklearn.datasets import fetch_openml"
   ]
  },
  {
   "cell_type": "code",
   "execution_count": 2,
   "metadata": {},
   "outputs": [],
   "source": [
    "# Official fetch_openml docs on downloading MNIST aren't correct\n",
    "# https://stackoverflow.com/a/55006477\n",
    "mnist = fetch_openml('mnist_784')"
   ]
  },
  {
   "cell_type": "code",
   "execution_count": 3,
   "metadata": {},
   "outputs": [
    {
     "data": {
      "text/plain": [
       "(70000, 784)"
      ]
     },
     "execution_count": 3,
     "metadata": {},
     "output_type": "execute_result"
    }
   ],
   "source": [
    "mnist.data.shape"
   ]
  },
  {
   "cell_type": "code",
   "execution_count": 4,
   "metadata": {},
   "outputs": [
    {
     "data": {
      "text/plain": [
       "(70000,)"
      ]
     },
     "execution_count": 4,
     "metadata": {},
     "output_type": "execute_result"
    }
   ],
   "source": [
    "mnist.target.shape"
   ]
  },
  {
   "cell_type": "code",
   "execution_count": 5,
   "metadata": {},
   "outputs": [],
   "source": [
    "SPLIT_QTY=10\n",
    "TEST_SIZE=1.0/SPLIT_QTY\n",
    "DIM=50\n",
    "K=3\n",
    "\n",
    "algo='brute'"
   ]
  },
  {
   "cell_type": "code",
   "execution_count": 6,
   "metadata": {},
   "outputs": [],
   "source": [
    "from sklearn.model_selection import train_test_split\n",
    "from sklearn.decomposition import PCA\n",
    "from sklearn.neighbors import KNeighborsClassifier\n",
    "from sklearn.metrics import accuracy_score\n",
    "import numpy as np"
   ]
  },
  {
   "cell_type": "code",
   "execution_count": 11,
   "metadata": {},
   "outputs": [
    {
     "name": "stdout",
     "output_type": "stream",
     "text": [
      "Split: 0 acc 0.98\n",
      "Split: 1 acc 0.979143\n",
      "Split: 2 acc 0.978714\n",
      "Split: 3 acc 0.978\n",
      "Split: 4 acc 0.980571\n",
      "Split: 5 acc 0.978857\n",
      "Split: 6 acc 0.977286\n",
      "Split: 7 acc 0.977286\n",
      "Split: 8 acc 0.979286\n",
      "Split: 9 acc 0.975143\n",
      "Average 0.978429\n"
     ]
    }
   ],
   "source": [
    "acc = []\n",
    "for ti in range(SPLIT_QTY):\n",
    "    x_train, x_test, y_train, y_test = train_test_split(mnist.data, mnist.target, \n",
    "                                                        test_size=TEST_SIZE, \n",
    "                                                        random_state=ti)\n",
    "    pca = PCA(n_components=DIM).fit(x_train)\n",
    "    knn=KNeighborsClassifier(n_neighbors=K, algorithm=algo)\n",
    "\n",
    "    x_train_transf = pca.transform(x_train)\n",
    "    x_test_transf = pca.transform(x_test)\n",
    "    x_train_transf.shape, x_test_transf.shape\n",
    "\n",
    "    knn.fit(x_train_transf, y_train)\n",
    "\n",
    "    y_pred = knn.predict(x_test_transf)\n",
    "    acc.append(accuracy_score(y_test, y_pred))\n",
    "    print('Split: %d acc %g' % (ti, acc[-1]))\n",
    "        \n",
    "print('Average %g' % (np.mean(acc)))"
   ]
  },
  {
   "cell_type": "code",
   "execution_count": null,
   "metadata": {},
   "outputs": [],
   "source": []
  }
 ],
 "metadata": {
  "kernelspec": {
   "display_name": "Python 3",
   "language": "python",
   "name": "python3"
  },
  "language_info": {
   "codemirror_mode": {
    "name": "ipython",
    "version": 3
   },
   "file_extension": ".py",
   "mimetype": "text/x-python",
   "name": "python",
   "nbconvert_exporter": "python",
   "pygments_lexer": "ipython3",
   "version": "3.6.5"
  }
 },
 "nbformat": 4,
 "nbformat_minor": 2
}
