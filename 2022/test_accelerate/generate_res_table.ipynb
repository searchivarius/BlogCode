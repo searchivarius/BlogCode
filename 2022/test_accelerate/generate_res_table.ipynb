{
 "cells": [
  {
   "cell_type": "markdown",
   "id": "c91c0a99",
   "metadata": {},
   "source": [
    "Process results obtained via running command:\n",
    "```\n",
    "bash -i run_main.sh\n",
    "```"
   ]
  },
  {
   "cell_type": "code",
   "execution_count": 1,
   "id": "55425594",
   "metadata": {},
   "outputs": [],
   "source": [
    "SEED_QTY=3\n",
    "OUTPUT_PREF='results/output_res_'"
   ]
  },
  {
   "cell_type": "code",
   "execution_count": 2,
   "id": "e0ba1abc",
   "metadata": {},
   "outputs": [],
   "source": [
    "res_keys = ['1gpu'] + \\\n",
    "        [f'accum_steps_{k}' for k in [1, 2, 4, 8, 16]] + \\\n",
    "        [f'nosync_steps_{k}' for k in [1, 2, 4, 8, 16]]\n",
    "res_dict = {k : [] for k in res_keys}\n",
    "res_dict_str = {k : [] for k in res_keys}"
   ]
  },
  {
   "cell_type": "code",
   "execution_count": 3,
   "id": "9805a1e3",
   "metadata": {},
   "outputs": [
    {
     "data": {
      "text/plain": [
       "{'1gpu': [],\n",
       " 'accum_steps_1': [],\n",
       " 'accum_steps_2': [],\n",
       " 'accum_steps_4': [],\n",
       " 'accum_steps_8': [],\n",
       " 'accum_steps_16': [],\n",
       " 'nosync_steps_1': [],\n",
       " 'nosync_steps_2': [],\n",
       " 'nosync_steps_4': [],\n",
       " 'nosync_steps_8': [],\n",
       " 'nosync_steps_16': []}"
      ]
     },
     "execution_count": 3,
     "metadata": {},
     "output_type": "execute_result"
    }
   ],
   "source": [
    "res_dict_str"
   ]
  },
  {
   "cell_type": "code",
   "execution_count": 4,
   "id": "b3bae2a2",
   "metadata": {},
   "outputs": [],
   "source": [
    "import json\n",
    "\n",
    "for train_qty in [4000, 40000]:\n",
    "    for rk in res_keys:\n",
    "        for seed in range(SEED_QTY):\n",
    "            tmp = json.load(open(f'{OUTPUT_PREF}{train_qty}_{rk}/{seed}/all_results.json'))\n",
    "            if seed == 0:\n",
    "                one_res = tmp\n",
    "            else:\n",
    "                assert one_res.keys() == tmp.keys()\n",
    "                for mk in tmp.keys():\n",
    "                    one_res[mk] += tmp[mk]\n",
    "                 \n",
    "        for mk in one_res.keys():\n",
    "            one_res[mk] /= float(SEED_QTY)\n",
    "        res_dict[rk].append(one_res)\n",
    "    "
   ]
  },
  {
   "cell_type": "code",
   "execution_count": 5,
   "id": "5d205149",
   "metadata": {},
   "outputs": [
    {
     "data": {
      "text/plain": [
       "{'eval_exact_match': 78.87417218543047,\n",
       " 'eval_f1': 87.17069418375785,\n",
       " 'eval_train_time': 1367.486189365387}"
      ]
     },
     "execution_count": 5,
     "metadata": {},
     "output_type": "execute_result"
    }
   ],
   "source": [
    "tmp"
   ]
  },
  {
   "cell_type": "code",
   "execution_count": 6,
   "id": "768b68f2",
   "metadata": {
    "scrolled": true
   },
   "outputs": [
    {
     "name": "stdout",
     "output_type": "stream",
     "text": [
      "1gpu 1.0 79.3\n",
      "accum_steps_1 2.6 77.8\n",
      "accum_steps_2 2.7 74.7\n",
      "accum_steps_4 2.7 70.6\n",
      "accum_steps_8 2.9 54.8\n",
      "accum_steps_16 3.1 15.9\n",
      "nosync_steps_1 2.6 77.4\n",
      "nosync_steps_2 2.9 74.5\n",
      "nosync_steps_4 3.3 71.9\n",
      "nosync_steps_8 3.5 72.8\n",
      "nosync_steps_16 3.6 74.2\n",
      "1gpu 1.0 89.2\n",
      "accum_steps_1 2.4 88.6\n",
      "accum_steps_2 2.5 88.2\n",
      "accum_steps_4 2.6 87.5\n",
      "accum_steps_8 2.6 86.7\n",
      "accum_steps_16 2.6 84.4\n",
      "nosync_steps_1 2.4 88.8\n",
      "nosync_steps_2 2.8 87.2\n",
      "nosync_steps_4 3.2 87.3\n",
      "nosync_steps_8 3.4 87.4\n",
      "nosync_steps_16 3.6 87.3\n"
     ]
    }
   ],
   "source": [
    "for cidx, train_qty in enumerate([4000, 40000]):\n",
    "    for rk in res_keys:\n",
    "        speed_up = round(res_dict['1gpu'][cidx]['eval_train_time'] / res_dict[rk][cidx]['eval_train_time'], 1)\n",
    "        f1 = round(res_dict[rk][cidx]['eval_f1'], 1)\n",
    "        print(rk, speed_up, f1)\n",
    "        if rk != '1gpu':\n",
    "            res_dict_str[rk].append(f'f1={f1} {speed_up}x')\n",
    "        else:\n",
    "            res_dict_str[rk].append(f'f1={f1}')\n",
    "    "
   ]
  },
  {
   "cell_type": "code",
   "execution_count": 7,
   "id": "6af8f1b3",
   "metadata": {},
   "outputs": [
    {
     "data": {
      "text/plain": [
       "{'1gpu': ['f1=79.3', 'f1=89.2'],\n",
       " 'accum_steps_1': ['f1=77.8 2.6x', 'f1=88.6 2.4x'],\n",
       " 'accum_steps_2': ['f1=74.7 2.7x', 'f1=88.2 2.5x'],\n",
       " 'accum_steps_4': ['f1=70.6 2.7x', 'f1=87.5 2.6x'],\n",
       " 'accum_steps_8': ['f1=54.8 2.9x', 'f1=86.7 2.6x'],\n",
       " 'accum_steps_16': ['f1=15.9 3.1x', 'f1=84.4 2.6x'],\n",
       " 'nosync_steps_1': ['f1=77.4 2.6x', 'f1=88.8 2.4x'],\n",
       " 'nosync_steps_2': ['f1=74.5 2.9x', 'f1=87.2 2.8x'],\n",
       " 'nosync_steps_4': ['f1=71.9 3.3x', 'f1=87.3 3.2x'],\n",
       " 'nosync_steps_8': ['f1=72.8 3.5x', 'f1=87.4 3.4x'],\n",
       " 'nosync_steps_16': ['f1=74.2 3.6x', 'f1=87.3 3.6x']}"
      ]
     },
     "execution_count": 7,
     "metadata": {},
     "output_type": "execute_result"
    }
   ],
   "source": [
    "res_dict_str"
   ]
  },
  {
   "cell_type": "code",
   "execution_count": 8,
   "id": "2fa0d4a2",
   "metadata": {},
   "outputs": [],
   "source": [
    "import pandas as pd\n",
    "df=pd.DataFrame.from_dict(res_dict_str)"
   ]
  },
  {
   "cell_type": "code",
   "execution_count": 9,
   "id": "344fa032",
   "metadata": {},
   "outputs": [
    {
     "data": {
      "text/html": [
       "<div>\n",
       "<style scoped>\n",
       "    .dataframe tbody tr th:only-of-type {\n",
       "        vertical-align: middle;\n",
       "    }\n",
       "\n",
       "    .dataframe tbody tr th {\n",
       "        vertical-align: top;\n",
       "    }\n",
       "\n",
       "    .dataframe thead th {\n",
       "        text-align: right;\n",
       "    }\n",
       "</style>\n",
       "<table border=\"1\" class=\"dataframe\">\n",
       "  <thead>\n",
       "    <tr style=\"text-align: right;\">\n",
       "      <th></th>\n",
       "      <th>1gpu</th>\n",
       "      <th>accum_steps_1</th>\n",
       "      <th>accum_steps_2</th>\n",
       "      <th>accum_steps_4</th>\n",
       "      <th>accum_steps_8</th>\n",
       "      <th>accum_steps_16</th>\n",
       "      <th>nosync_steps_1</th>\n",
       "      <th>nosync_steps_2</th>\n",
       "      <th>nosync_steps_4</th>\n",
       "      <th>nosync_steps_8</th>\n",
       "      <th>nosync_steps_16</th>\n",
       "    </tr>\n",
       "  </thead>\n",
       "  <tbody>\n",
       "    <tr>\n",
       "      <th>0</th>\n",
       "      <td>f1=79.3</td>\n",
       "      <td>f1=77.8 2.6x</td>\n",
       "      <td>f1=74.7 2.7x</td>\n",
       "      <td>f1=70.6 2.7x</td>\n",
       "      <td>f1=54.8 2.9x</td>\n",
       "      <td>f1=15.9 3.1x</td>\n",
       "      <td>f1=77.4 2.6x</td>\n",
       "      <td>f1=74.5 2.9x</td>\n",
       "      <td>f1=71.9 3.3x</td>\n",
       "      <td>f1=72.8 3.5x</td>\n",
       "      <td>f1=74.2 3.6x</td>\n",
       "    </tr>\n",
       "    <tr>\n",
       "      <th>1</th>\n",
       "      <td>f1=89.2</td>\n",
       "      <td>f1=88.6 2.4x</td>\n",
       "      <td>f1=88.2 2.5x</td>\n",
       "      <td>f1=87.5 2.6x</td>\n",
       "      <td>f1=86.7 2.6x</td>\n",
       "      <td>f1=84.4 2.6x</td>\n",
       "      <td>f1=88.8 2.4x</td>\n",
       "      <td>f1=87.2 2.8x</td>\n",
       "      <td>f1=87.3 3.2x</td>\n",
       "      <td>f1=87.4 3.4x</td>\n",
       "      <td>f1=87.3 3.6x</td>\n",
       "    </tr>\n",
       "  </tbody>\n",
       "</table>\n",
       "</div>"
      ],
      "text/plain": [
       "      1gpu accum_steps_1 accum_steps_2 accum_steps_4 accum_steps_8  \\\n",
       "0  f1=79.3  f1=77.8 2.6x  f1=74.7 2.7x  f1=70.6 2.7x  f1=54.8 2.9x   \n",
       "1  f1=89.2  f1=88.6 2.4x  f1=88.2 2.5x  f1=87.5 2.6x  f1=86.7 2.6x   \n",
       "\n",
       "  accum_steps_16 nosync_steps_1 nosync_steps_2 nosync_steps_4 nosync_steps_8  \\\n",
       "0   f1=15.9 3.1x   f1=77.4 2.6x   f1=74.5 2.9x   f1=71.9 3.3x   f1=72.8 3.5x   \n",
       "1   f1=84.4 2.6x   f1=88.8 2.4x   f1=87.2 2.8x   f1=87.3 3.2x   f1=87.4 3.4x   \n",
       "\n",
       "  nosync_steps_16  \n",
       "0    f1=74.2 3.6x  \n",
       "1    f1=87.3 3.6x  "
      ]
     },
     "execution_count": 9,
     "metadata": {},
     "output_type": "execute_result"
    }
   ],
   "source": [
    "df"
   ]
  },
  {
   "cell_type": "code",
   "execution_count": 10,
   "id": "6883e41a",
   "metadata": {},
   "outputs": [],
   "source": [
    "df.to_csv('results.tsv')"
   ]
  },
  {
   "cell_type": "code",
   "execution_count": 11,
   "id": "debc8c14",
   "metadata": {},
   "outputs": [
    {
     "name": "stdout",
     "output_type": "stream",
     "text": [
      ",1gpu,accum_steps_1,accum_steps_2,accum_steps_4,accum_steps_8,accum_steps_16,nosync_steps_1,nosync_steps_2,nosync_steps_4,nosync_steps_8,nosync_steps_16\r\n",
      "0,f1=79.3,f1=77.8 2.6x,f1=74.7 2.7x,f1=70.6 2.7x,f1=54.8 2.9x,f1=15.9 3.1x,f1=77.4 2.6x,f1=74.5 2.9x,f1=71.9 3.3x,f1=72.8 3.5x,f1=74.2 3.6x\r\n",
      "1,f1=89.2,f1=88.6 2.4x,f1=88.2 2.5x,f1=87.5 2.6x,f1=86.7 2.6x,f1=84.4 2.6x,f1=88.8 2.4x,f1=87.2 2.8x,f1=87.3 3.2x,f1=87.4 3.4x,f1=87.3 3.6x\r\n"
     ]
    }
   ],
   "source": [
    "!cat results.tsv"
   ]
  },
  {
   "cell_type": "code",
   "execution_count": null,
   "id": "060b6fb3",
   "metadata": {},
   "outputs": [],
   "source": []
  }
 ],
 "metadata": {
  "kernelspec": {
   "display_name": "Python 3 (ipykernel)",
   "language": "python",
   "name": "python3"
  },
  "language_info": {
   "codemirror_mode": {
    "name": "ipython",
    "version": 3
   },
   "file_extension": ".py",
   "mimetype": "text/x-python",
   "name": "python",
   "nbconvert_exporter": "python",
   "pygments_lexer": "ipython3",
   "version": "3.8.13"
  }
 },
 "nbformat": 4,
 "nbformat_minor": 5
}
