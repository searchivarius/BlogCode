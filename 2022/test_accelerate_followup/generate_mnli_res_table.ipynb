{
 "cells": [
  {
   "cell_type": "markdown",
   "metadata": {},
   "source": [
    "Installation of necessary packages (and creation of a conda env):\n",
    "```\n",
    "./install_main.sh \n",
    "```"
   ]
  },
  {
   "cell_type": "markdown",
   "metadata": {},
   "source": [
    "Process results obtained via running command:\n",
    "```\n",
    "bash -i run_mnli_main.sh\n",
    "```"
   ]
  },
  {
   "cell_type": "code",
   "execution_count": 1,
   "metadata": {},
   "outputs": [],
   "source": [
    "SEED_QTY=3\n",
    "OUTPUT_PREF='results_mnli/output_res_'"
   ]
  },
  {
   "cell_type": "code",
   "execution_count": 2,
   "metadata": {},
   "outputs": [],
   "source": [
    "#sync_step_arr = [1, 2, 4, 8, 16]\n",
    "sync_step_arr_accum = [1, 2, 4, 8, 16, 32, 64, 128, 256]\n",
    "sync_step_arr_nosync = [1, 2, 4, 8, 16, 32, 64, 128, 256]\n",
    "\n",
    "res_keys = ['1gpu'] + \\\n",
    "        [f'accum_steps_{k}' for k in sync_step_arr_accum] + \\\n",
    "        [f'nosync_steps_{k}' for k in sync_step_arr_nosync]"
   ]
  },
  {
   "cell_type": "code",
   "execution_count": 3,
   "metadata": {},
   "outputs": [],
   "source": [
    "import json\n",
    "\n",
    "res_dict = {k : [] for k in res_keys}\n",
    "\n",
    "for train_qty in [4000, 40000]:\n",
    "    for rk in res_keys:\n",
    "        one_res = {}\n",
    "        \n",
    "        for seed in range(SEED_QTY):\n",
    "            tmp = json.load(open(f'{OUTPUT_PREF}{train_qty}_{rk}/{seed}/all_results.json'))\n",
    "            if seed == 0:\n",
    "                for mk in tmp.keys():\n",
    "                    one_res[mk] = []\n",
    "\n",
    "            for mk in tmp.keys():\n",
    "                one_res[mk].append(tmp[mk])\n",
    "                 \n",
    "        res_dict[rk].append(one_res)\n",
    "    "
   ]
  },
  {
   "cell_type": "code",
   "execution_count": 4,
   "metadata": {},
   "outputs": [
    {
     "data": {
      "text/plain": [
       "[{'eval_accuracy': [0.7508136696501221,\n",
       "   0.7376932465419039,\n",
       "   0.7201993490642798],\n",
       "  'train_time': [74.37206363677979, 73.83928155899048, 74.55089211463928]},\n",
       " {'eval_accuracy': [0.3295362082994304,\n",
       "   0.8177379983726607,\n",
       "   0.8218063466232709],\n",
       "  'train_time': [730.9971737861633, 730.1912815570831, 727.5648543834686]}]"
      ]
     },
     "execution_count": 4,
     "metadata": {},
     "output_type": "execute_result"
    }
   ],
   "source": [
    "res_dict['1gpu']"
   ]
  },
  {
   "cell_type": "code",
   "execution_count": 5,
   "metadata": {},
   "outputs": [
    {
     "data": {
      "text/plain": [
       "{'eval_accuracy': 0.7979910714285714, 'train_time': 190.1690673828125}"
      ]
     },
     "execution_count": 5,
     "metadata": {},
     "output_type": "execute_result"
    }
   ],
   "source": [
    "tmp"
   ]
  },
  {
   "cell_type": "code",
   "execution_count": 6,
   "metadata": {
    "scrolled": true
   },
   "outputs": [
    {
     "data": {
      "text/plain": [
       "{'1gpu': ['0.74/0.75', '0.66/0.82'],\n",
       " 'accum_steps_1': ['0.62/0.64 1.4x', '0.81/0.81 1.5x'],\n",
       " 'accum_steps_2': ['0.35/0.37 4.2x', '0.78/0.78 4.4x'],\n",
       " 'accum_steps_4': ['0.33/0.36 10.6x', '0.6/0.66 11.9x'],\n",
       " 'accum_steps_8': ['0.33/0.35 22.9x', '0.35/0.37 28.2x'],\n",
       " 'accum_steps_16': ['0.33/0.35 47.7x', '0.33/0.35 63.6x'],\n",
       " 'accum_steps_32': ['0.33/0.35 59.4x', '0.33/0.35 117.7x'],\n",
       " 'accum_steps_64': ['0.33/0.35 63.9x', '0.33/0.35 224.6x'],\n",
       " 'accum_steps_128': ['0.33/0.35 63.7x', '0.33/0.35 310.5x'],\n",
       " 'accum_steps_256': ['0.33/0.35 64.7x', '0.33/0.35 369.2x'],\n",
       " 'nosync_steps_1': ['0.54/0.55 1.2x', '0.8/0.8 1.2x'],\n",
       " 'nosync_steps_2': ['0.53/0.56 1.7x', '0.8/0.81 1.8x'],\n",
       " 'nosync_steps_4': ['0.53/0.54 2.3x', '0.8/0.8 2.4x'],\n",
       " 'nosync_steps_8': ['0.54/0.57 2.8x', '0.8/0.8 3.0x'],\n",
       " 'nosync_steps_16': ['0.52/0.53 3.1x', '0.8/0.8 3.3x'],\n",
       " 'nosync_steps_32': ['0.51/0.52 3.3x', '0.8/0.8 3.6x'],\n",
       " 'nosync_steps_64': ['0.51/0.52 3.5x', '0.8/0.8 3.7x'],\n",
       " 'nosync_steps_128': ['0.51/0.52 3.5x', '0.8/0.8 3.8x'],\n",
       " 'nosync_steps_256': ['0.51/0.52 3.5x', '0.8/0.8 3.8x']}"
      ]
     },
     "execution_count": 6,
     "metadata": {},
     "output_type": "execute_result"
    }
   ],
   "source": [
    "import numpy as np\n",
    "\n",
    "res_dict_str = {k : [] for k in res_keys}\n",
    "\n",
    "for cidx, train_qty in enumerate([4000, 40000]):\n",
    "    for rk in res_keys:\n",
    "        speed_up = round(np.mean(res_dict['1gpu'][cidx]['train_time']) / np.mean(res_dict[rk][cidx]['train_time']), 1)\n",
    "        acc = str(round(np.mean(res_dict[rk][cidx]['eval_accuracy']), 2)) +'/' +str(round(np.max(res_dict[rk][cidx]['eval_accuracy']), 2))\n",
    "        #print(rk, speed_up, f1)\n",
    "        if rk != '1gpu':\n",
    "            res_dict_str[rk].append(f'{acc} {speed_up}x')\n",
    "        else:\n",
    "            res_dict_str[rk].append(f'{acc}')  \n",
    "            \n",
    "            \n",
    "res_dict_str"
   ]
  },
  {
   "cell_type": "code",
   "execution_count": 7,
   "metadata": {},
   "outputs": [],
   "source": [
    "import pandas as pd\n",
    "df=pd.DataFrame.from_dict(res_dict_str)"
   ]
  },
  {
   "cell_type": "code",
   "execution_count": 8,
   "metadata": {},
   "outputs": [
    {
     "data": {
      "text/html": [
       "<div>\n",
       "<style scoped>\n",
       "    .dataframe tbody tr th:only-of-type {\n",
       "        vertical-align: middle;\n",
       "    }\n",
       "\n",
       "    .dataframe tbody tr th {\n",
       "        vertical-align: top;\n",
       "    }\n",
       "\n",
       "    .dataframe thead th {\n",
       "        text-align: right;\n",
       "    }\n",
       "</style>\n",
       "<table border=\"1\" class=\"dataframe\">\n",
       "  <thead>\n",
       "    <tr style=\"text-align: right;\">\n",
       "      <th></th>\n",
       "      <th>1gpu</th>\n",
       "      <th>accum_steps_1</th>\n",
       "      <th>accum_steps_2</th>\n",
       "      <th>accum_steps_4</th>\n",
       "      <th>accum_steps_8</th>\n",
       "      <th>accum_steps_16</th>\n",
       "      <th>accum_steps_32</th>\n",
       "      <th>accum_steps_64</th>\n",
       "      <th>accum_steps_128</th>\n",
       "      <th>accum_steps_256</th>\n",
       "      <th>nosync_steps_1</th>\n",
       "      <th>nosync_steps_2</th>\n",
       "      <th>nosync_steps_4</th>\n",
       "      <th>nosync_steps_8</th>\n",
       "      <th>nosync_steps_16</th>\n",
       "      <th>nosync_steps_32</th>\n",
       "      <th>nosync_steps_64</th>\n",
       "      <th>nosync_steps_128</th>\n",
       "      <th>nosync_steps_256</th>\n",
       "    </tr>\n",
       "  </thead>\n",
       "  <tbody>\n",
       "    <tr>\n",
       "      <th>0</th>\n",
       "      <td>0.74/0.75</td>\n",
       "      <td>0.62/0.64 1.4x</td>\n",
       "      <td>0.35/0.37 4.2x</td>\n",
       "      <td>0.33/0.36 10.6x</td>\n",
       "      <td>0.33/0.35 22.9x</td>\n",
       "      <td>0.33/0.35 47.7x</td>\n",
       "      <td>0.33/0.35 59.4x</td>\n",
       "      <td>0.33/0.35 63.9x</td>\n",
       "      <td>0.33/0.35 63.7x</td>\n",
       "      <td>0.33/0.35 64.7x</td>\n",
       "      <td>0.54/0.55 1.2x</td>\n",
       "      <td>0.53/0.56 1.7x</td>\n",
       "      <td>0.53/0.54 2.3x</td>\n",
       "      <td>0.54/0.57 2.8x</td>\n",
       "      <td>0.52/0.53 3.1x</td>\n",
       "      <td>0.51/0.52 3.3x</td>\n",
       "      <td>0.51/0.52 3.5x</td>\n",
       "      <td>0.51/0.52 3.5x</td>\n",
       "      <td>0.51/0.52 3.5x</td>\n",
       "    </tr>\n",
       "    <tr>\n",
       "      <th>1</th>\n",
       "      <td>0.66/0.82</td>\n",
       "      <td>0.81/0.81 1.5x</td>\n",
       "      <td>0.78/0.78 4.4x</td>\n",
       "      <td>0.6/0.66 11.9x</td>\n",
       "      <td>0.35/0.37 28.2x</td>\n",
       "      <td>0.33/0.35 63.6x</td>\n",
       "      <td>0.33/0.35 117.7x</td>\n",
       "      <td>0.33/0.35 224.6x</td>\n",
       "      <td>0.33/0.35 310.5x</td>\n",
       "      <td>0.33/0.35 369.2x</td>\n",
       "      <td>0.8/0.8 1.2x</td>\n",
       "      <td>0.8/0.81 1.8x</td>\n",
       "      <td>0.8/0.8 2.4x</td>\n",
       "      <td>0.8/0.8 3.0x</td>\n",
       "      <td>0.8/0.8 3.3x</td>\n",
       "      <td>0.8/0.8 3.6x</td>\n",
       "      <td>0.8/0.8 3.7x</td>\n",
       "      <td>0.8/0.8 3.8x</td>\n",
       "      <td>0.8/0.8 3.8x</td>\n",
       "    </tr>\n",
       "  </tbody>\n",
       "</table>\n",
       "</div>"
      ],
      "text/plain": [
       "        1gpu   accum_steps_1   accum_steps_2    accum_steps_4  \\\n",
       "0  0.74/0.75  0.62/0.64 1.4x  0.35/0.37 4.2x  0.33/0.36 10.6x   \n",
       "1  0.66/0.82  0.81/0.81 1.5x  0.78/0.78 4.4x   0.6/0.66 11.9x   \n",
       "\n",
       "     accum_steps_8   accum_steps_16    accum_steps_32    accum_steps_64  \\\n",
       "0  0.33/0.35 22.9x  0.33/0.35 47.7x   0.33/0.35 59.4x   0.33/0.35 63.9x   \n",
       "1  0.35/0.37 28.2x  0.33/0.35 63.6x  0.33/0.35 117.7x  0.33/0.35 224.6x   \n",
       "\n",
       "    accum_steps_128   accum_steps_256  nosync_steps_1  nosync_steps_2  \\\n",
       "0   0.33/0.35 63.7x   0.33/0.35 64.7x  0.54/0.55 1.2x  0.53/0.56 1.7x   \n",
       "1  0.33/0.35 310.5x  0.33/0.35 369.2x    0.8/0.8 1.2x   0.8/0.81 1.8x   \n",
       "\n",
       "   nosync_steps_4  nosync_steps_8 nosync_steps_16 nosync_steps_32  \\\n",
       "0  0.53/0.54 2.3x  0.54/0.57 2.8x  0.52/0.53 3.1x  0.51/0.52 3.3x   \n",
       "1    0.8/0.8 2.4x    0.8/0.8 3.0x    0.8/0.8 3.3x    0.8/0.8 3.6x   \n",
       "\n",
       "  nosync_steps_64 nosync_steps_128 nosync_steps_256  \n",
       "0  0.51/0.52 3.5x   0.51/0.52 3.5x   0.51/0.52 3.5x  \n",
       "1    0.8/0.8 3.7x     0.8/0.8 3.8x     0.8/0.8 3.8x  "
      ]
     },
     "execution_count": 8,
     "metadata": {},
     "output_type": "execute_result"
    }
   ],
   "source": [
    "df"
   ]
  },
  {
   "cell_type": "code",
   "execution_count": 9,
   "metadata": {},
   "outputs": [],
   "source": [
    "#df.to_csv('results.tsv')"
   ]
  },
  {
   "cell_type": "code",
   "execution_count": 10,
   "metadata": {},
   "outputs": [],
   "source": [
    "#!cat results.tsv"
   ]
  },
  {
   "cell_type": "code",
   "execution_count": null,
   "metadata": {},
   "outputs": [],
   "source": []
  }
 ],
 "metadata": {
  "kernelspec": {
   "display_name": "Python 3",
   "language": "python",
   "name": "python3"
  },
  "language_info": {
   "codemirror_mode": {
    "name": "ipython",
    "version": 3
   },
   "file_extension": ".py",
   "mimetype": "text/x-python",
   "name": "python",
   "nbconvert_exporter": "python",
   "pygments_lexer": "ipython3",
   "version": "3.8.5"
  }
 },
 "nbformat": 4,
 "nbformat_minor": 5
}
