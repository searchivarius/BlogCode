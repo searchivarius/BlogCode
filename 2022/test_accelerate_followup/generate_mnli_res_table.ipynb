{
 "cells": [
  {
   "cell_type": "markdown",
   "metadata": {},
   "source": [
    "Installation of necessary packages (and creation of a conda env):\n",
    "```\n",
    "./install_main.sh \n",
    "```"
   ]
  },
  {
   "cell_type": "markdown",
   "metadata": {},
   "source": [
    "Process results obtained via running command:\n",
    "```\n",
    "bash -i run_mnli_main.sh\n",
    "```"
   ]
  },
  {
   "cell_type": "code",
   "execution_count": 1,
   "metadata": {},
   "outputs": [],
   "source": [
    "SEED_QTY=3\n",
    "OUTPUT_PREF='results_mnli/output_res_'"
   ]
  },
  {
   "cell_type": "code",
   "execution_count": 2,
   "metadata": {},
   "outputs": [],
   "source": [
    "#sync_step_arr = [1, 2, 4, 8, 16]\n",
    "sync_step_arr = [1, 2, 4, 8, 16, 32, 64, 128, 256]\n",
    "\n",
    "res_keys = ['1gpu'] + \\\n",
    "        [f'accum_steps_{k}' for k in sync_step_arr] + \\\n",
    "        [f'nosync_steps_{k}' for k in sync_step_arr]"
   ]
  },
  {
   "cell_type": "code",
   "execution_count": 3,
   "metadata": {},
   "outputs": [],
   "source": [
    "import json\n",
    "\n",
    "res_dict = {k : [] for k in res_keys}\n",
    "\n",
    "for train_qty in [4000, 40000]:\n",
    "    for rk in res_keys:\n",
    "        one_res = {}\n",
    "        \n",
    "        for seed in range(SEED_QTY):\n",
    "            tmp = json.load(open(f'{OUTPUT_PREF}{train_qty}_{rk}/{seed}/all_results.json'))\n",
    "            if seed == 0:\n",
    "                for mk in tmp.keys():\n",
    "                    one_res[mk] = []\n",
    "\n",
    "            for mk in tmp.keys():\n",
    "                one_res[mk].append(tmp[mk])\n",
    "                 \n",
    "        res_dict[rk].append(one_res)\n",
    "    "
   ]
  },
  {
   "cell_type": "code",
   "execution_count": 4,
   "metadata": {},
   "outputs": [
    {
     "data": {
      "text/plain": [
       "[{'eval_accuracy': [0.5706875508543532,\n",
       "   0.7505085435313262,\n",
       "   0.3295362082994304],\n",
       "  'train_time': [74.01993560791016, 73.50326371192932, 74.1038613319397]},\n",
       " {'eval_accuracy': [0.8176362896663955, 0.817432872253865, 0.8233319772172498],\n",
       "  'train_time': [732.0480329990387, 726.9911198616028, 727.3452048301697]}]"
      ]
     },
     "execution_count": 4,
     "metadata": {},
     "output_type": "execute_result"
    }
   ],
   "source": [
    "res_dict['1gpu']"
   ]
  },
  {
   "cell_type": "code",
   "execution_count": 5,
   "metadata": {},
   "outputs": [
    {
     "data": {
      "text/plain": [
       "{'eval_accuracy': 0.7955560064935064, 'train_time': 189.10353302955627}"
      ]
     },
     "execution_count": 5,
     "metadata": {},
     "output_type": "execute_result"
    }
   ],
   "source": [
    "tmp"
   ]
  },
  {
   "cell_type": "code",
   "execution_count": 12,
   "metadata": {
    "scrolled": true
   },
   "outputs": [
    {
     "data": {
      "text/plain": [
       "{'1gpu': ['0.6/0.8', '0.8/0.8'],\n",
       " 'accum_steps_1': ['0.6/0.7 1.3x', '0.8/0.8 1.5x'],\n",
       " 'accum_steps_2': ['0.5/0.6 2.8x', '0.8/0.8 2.9x'],\n",
       " 'accum_steps_4': ['0.4/0.4 5.1x', '0.8/0.8 5.8x'],\n",
       " 'accum_steps_8': ['0.3/0.4 9.0x', '0.7/0.7 11.2x'],\n",
       " 'accum_steps_16': ['0.3/0.4 14.4x', '0.5/0.6 21.7x'],\n",
       " 'accum_steps_32': ['0.3/0.4 20.8x', '0.4/0.5 41.2x'],\n",
       " 'accum_steps_64': ['0.3/0.4 21.3x', '0.4/0.4 73.6x'],\n",
       " 'accum_steps_128': ['0.3/0.4 21.5x', '0.3/0.4 108.7x'],\n",
       " 'accum_steps_256': ['0.3/0.4 20.8x', '0.3/0.4 137.1x'],\n",
       " 'nosync_steps_1': ['0.6/0.6 1.2x', '0.8/0.8 1.2x'],\n",
       " 'nosync_steps_2': ['0.6/0.6 1.8x', '0.8/0.8 1.8x'],\n",
       " 'nosync_steps_4': ['0.5/0.6 2.5x', '0.8/0.8 2.4x'],\n",
       " 'nosync_steps_8': ['0.5/0.6 3.0x', '0.8/0.8 3.0x'],\n",
       " 'nosync_steps_16': ['0.5/0.6 3.4x', '0.8/0.8 3.4x'],\n",
       " 'nosync_steps_32': ['0.5/0.5 3.7x', '0.8/0.8 3.6x'],\n",
       " 'nosync_steps_64': ['0.5/0.5 3.8x', '0.8/0.8 3.8x'],\n",
       " 'nosync_steps_128': ['0.5/0.5 3.7x', '0.8/0.8 3.8x'],\n",
       " 'nosync_steps_256': ['0.5/0.5 3.8x', '0.8/0.8 3.9x']}"
      ]
     },
     "execution_count": 12,
     "metadata": {},
     "output_type": "execute_result"
    }
   ],
   "source": [
    "import numpy as np\n",
    "\n",
    "res_dict_str = {k : [] for k in res_keys}\n",
    "\n",
    "for cidx, train_qty in enumerate([4000, 40000]):\n",
    "    for rk in res_keys:\n",
    "        speed_up = round(np.mean(res_dict['1gpu'][cidx]['train_time']) / np.mean(res_dict[rk][cidx]['train_time']), 1)\n",
    "        acc = str(round(np.mean(res_dict[rk][cidx]['eval_accuracy']), 1)) +'/' +str(round(np.max(res_dict[rk][cidx]['eval_accuracy']), 1))\n",
    "        #print(rk, speed_up, f1)\n",
    "        if rk != '1gpu':\n",
    "            res_dict_str[rk].append(f'{acc} {speed_up}x')\n",
    "        else:\n",
    "            res_dict_str[rk].append(f'{acc}')  \n",
    "            \n",
    "            \n",
    "res_dict_str"
   ]
  },
  {
   "cell_type": "code",
   "execution_count": 13,
   "metadata": {},
   "outputs": [],
   "source": [
    "import pandas as pd\n",
    "df=pd.DataFrame.from_dict(res_dict_str)"
   ]
  },
  {
   "cell_type": "code",
   "execution_count": 14,
   "metadata": {},
   "outputs": [
    {
     "data": {
      "text/html": [
       "<div>\n",
       "<style scoped>\n",
       "    .dataframe tbody tr th:only-of-type {\n",
       "        vertical-align: middle;\n",
       "    }\n",
       "\n",
       "    .dataframe tbody tr th {\n",
       "        vertical-align: top;\n",
       "    }\n",
       "\n",
       "    .dataframe thead th {\n",
       "        text-align: right;\n",
       "    }\n",
       "</style>\n",
       "<table border=\"1\" class=\"dataframe\">\n",
       "  <thead>\n",
       "    <tr style=\"text-align: right;\">\n",
       "      <th></th>\n",
       "      <th>1gpu</th>\n",
       "      <th>accum_steps_1</th>\n",
       "      <th>accum_steps_2</th>\n",
       "      <th>accum_steps_4</th>\n",
       "      <th>accum_steps_8</th>\n",
       "      <th>accum_steps_16</th>\n",
       "      <th>accum_steps_32</th>\n",
       "      <th>accum_steps_64</th>\n",
       "      <th>accum_steps_128</th>\n",
       "      <th>accum_steps_256</th>\n",
       "      <th>nosync_steps_1</th>\n",
       "      <th>nosync_steps_2</th>\n",
       "      <th>nosync_steps_4</th>\n",
       "      <th>nosync_steps_8</th>\n",
       "      <th>nosync_steps_16</th>\n",
       "      <th>nosync_steps_32</th>\n",
       "      <th>nosync_steps_64</th>\n",
       "      <th>nosync_steps_128</th>\n",
       "      <th>nosync_steps_256</th>\n",
       "    </tr>\n",
       "  </thead>\n",
       "  <tbody>\n",
       "    <tr>\n",
       "      <th>0</th>\n",
       "      <td>0.6/0.8</td>\n",
       "      <td>0.6/0.7 1.3x</td>\n",
       "      <td>0.5/0.6 2.8x</td>\n",
       "      <td>0.4/0.4 5.1x</td>\n",
       "      <td>0.3/0.4 9.0x</td>\n",
       "      <td>0.3/0.4 14.4x</td>\n",
       "      <td>0.3/0.4 20.8x</td>\n",
       "      <td>0.3/0.4 21.3x</td>\n",
       "      <td>0.3/0.4 21.5x</td>\n",
       "      <td>0.3/0.4 20.8x</td>\n",
       "      <td>0.6/0.6 1.2x</td>\n",
       "      <td>0.6/0.6 1.8x</td>\n",
       "      <td>0.5/0.6 2.5x</td>\n",
       "      <td>0.5/0.6 3.0x</td>\n",
       "      <td>0.5/0.6 3.4x</td>\n",
       "      <td>0.5/0.5 3.7x</td>\n",
       "      <td>0.5/0.5 3.8x</td>\n",
       "      <td>0.5/0.5 3.7x</td>\n",
       "      <td>0.5/0.5 3.8x</td>\n",
       "    </tr>\n",
       "    <tr>\n",
       "      <th>1</th>\n",
       "      <td>0.8/0.8</td>\n",
       "      <td>0.8/0.8 1.5x</td>\n",
       "      <td>0.8/0.8 2.9x</td>\n",
       "      <td>0.8/0.8 5.8x</td>\n",
       "      <td>0.7/0.7 11.2x</td>\n",
       "      <td>0.5/0.6 21.7x</td>\n",
       "      <td>0.4/0.5 41.2x</td>\n",
       "      <td>0.4/0.4 73.6x</td>\n",
       "      <td>0.3/0.4 108.7x</td>\n",
       "      <td>0.3/0.4 137.1x</td>\n",
       "      <td>0.8/0.8 1.2x</td>\n",
       "      <td>0.8/0.8 1.8x</td>\n",
       "      <td>0.8/0.8 2.4x</td>\n",
       "      <td>0.8/0.8 3.0x</td>\n",
       "      <td>0.8/0.8 3.4x</td>\n",
       "      <td>0.8/0.8 3.6x</td>\n",
       "      <td>0.8/0.8 3.8x</td>\n",
       "      <td>0.8/0.8 3.8x</td>\n",
       "      <td>0.8/0.8 3.9x</td>\n",
       "    </tr>\n",
       "  </tbody>\n",
       "</table>\n",
       "</div>"
      ],
      "text/plain": [
       "      1gpu accum_steps_1 accum_steps_2 accum_steps_4  accum_steps_8  \\\n",
       "0  0.6/0.8  0.6/0.7 1.3x  0.5/0.6 2.8x  0.4/0.4 5.1x   0.3/0.4 9.0x   \n",
       "1  0.8/0.8  0.8/0.8 1.5x  0.8/0.8 2.9x  0.8/0.8 5.8x  0.7/0.7 11.2x   \n",
       "\n",
       "  accum_steps_16 accum_steps_32 accum_steps_64 accum_steps_128  \\\n",
       "0  0.3/0.4 14.4x  0.3/0.4 20.8x  0.3/0.4 21.3x   0.3/0.4 21.5x   \n",
       "1  0.5/0.6 21.7x  0.4/0.5 41.2x  0.4/0.4 73.6x  0.3/0.4 108.7x   \n",
       "\n",
       "  accum_steps_256 nosync_steps_1 nosync_steps_2 nosync_steps_4 nosync_steps_8  \\\n",
       "0   0.3/0.4 20.8x   0.6/0.6 1.2x   0.6/0.6 1.8x   0.5/0.6 2.5x   0.5/0.6 3.0x   \n",
       "1  0.3/0.4 137.1x   0.8/0.8 1.2x   0.8/0.8 1.8x   0.8/0.8 2.4x   0.8/0.8 3.0x   \n",
       "\n",
       "  nosync_steps_16 nosync_steps_32 nosync_steps_64 nosync_steps_128  \\\n",
       "0    0.5/0.6 3.4x    0.5/0.5 3.7x    0.5/0.5 3.8x     0.5/0.5 3.7x   \n",
       "1    0.8/0.8 3.4x    0.8/0.8 3.6x    0.8/0.8 3.8x     0.8/0.8 3.8x   \n",
       "\n",
       "  nosync_steps_256  \n",
       "0     0.5/0.5 3.8x  \n",
       "1     0.8/0.8 3.9x  "
      ]
     },
     "execution_count": 14,
     "metadata": {},
     "output_type": "execute_result"
    }
   ],
   "source": [
    "df"
   ]
  },
  {
   "cell_type": "code",
   "execution_count": null,
   "metadata": {},
   "outputs": [],
   "source": [
    "#df.to_csv('results.tsv')"
   ]
  },
  {
   "cell_type": "code",
   "execution_count": null,
   "metadata": {},
   "outputs": [],
   "source": [
    "#!cat results.tsv"
   ]
  },
  {
   "cell_type": "code",
   "execution_count": null,
   "metadata": {},
   "outputs": [],
   "source": []
  }
 ],
 "metadata": {
  "kernelspec": {
   "display_name": "Python 3",
   "language": "python",
   "name": "python3"
  },
  "language_info": {
   "codemirror_mode": {
    "name": "ipython",
    "version": 3
   },
   "file_extension": ".py",
   "mimetype": "text/x-python",
   "name": "python",
   "nbconvert_exporter": "python",
   "pygments_lexer": "ipython3",
   "version": "3.8.5"
  }
 },
 "nbformat": 4,
 "nbformat_minor": 5
}
