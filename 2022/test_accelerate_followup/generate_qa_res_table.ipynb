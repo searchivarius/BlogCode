{
 "cells": [
  {
   "cell_type": "markdown",
   "metadata": {},
   "source": [
    "Installation of necessary packages (and creation of a conda env):\n",
    "```\n",
    "./install_main.sh \n",
    "```"
   ]
  },
  {
   "cell_type": "markdown",
   "metadata": {},
   "source": [
    "Process results obtained via running command:\n",
    "```\n",
    "bash -i run_qa_main.sh\n",
    "```"
   ]
  },
  {
   "cell_type": "code",
   "execution_count": 1,
   "metadata": {},
   "outputs": [],
   "source": [
    "SEED_QTY=3\n",
    "OUTPUT_PREF='results_qa/output_res_'\n",
    "#OUTPUT_PREF='../test_accelerate/results/output_res_'"
   ]
  },
  {
   "cell_type": "code",
   "execution_count": 2,
   "metadata": {},
   "outputs": [],
   "source": [
    "#sync_step_arr = [1, 2, 4, 8, 16]\n",
    "sync_step_arr = [1, 2, 4, 8, 16, 32, 64, 128, 256]\n",
    "\n",
    "res_keys = ['1gpu'] + \\\n",
    "        [f'accum_steps_{k}' for k in sync_step_arr] + \\\n",
    "        [f'nosync_steps_{k}' for k in sync_step_arr]"
   ]
  },
  {
   "cell_type": "code",
   "execution_count": 3,
   "metadata": {},
   "outputs": [],
   "source": [
    "import json\n",
    "\n",
    "res_dict = {k : [] for k in res_keys}\n",
    "\n",
    "for train_qty in [4000, 40000]:\n",
    "    for rk in res_keys:\n",
    "        one_res = {}\n",
    "        \n",
    "        for seed in range(SEED_QTY):\n",
    "            tmp = json.load(open(f'{OUTPUT_PREF}{train_qty}_{rk}/{seed}/all_results.json'))\n",
    "            if seed == 0:\n",
    "                for mk in tmp.keys():\n",
    "                    one_res[mk] = []\n",
    "\n",
    "            for mk in tmp.keys():\n",
    "                one_res[mk].append(tmp[mk])\n",
    "                 \n",
    "        res_dict[rk].append(one_res)\n",
    "    "
   ]
  },
  {
   "cell_type": "code",
   "execution_count": 4,
   "metadata": {},
   "outputs": [
    {
     "data": {
      "text/plain": [
       "[{'eval_exact_match': [69.65941343424787,\n",
       "   69.78240302743615,\n",
       "   69.57426679280984],\n",
       "  'eval_f1': [80.26637915296253, 80.08236129993176, 79.77908879505684],\n",
       "  'eval_train_time': [292.7783579826355, 293.6336350440979, 292.957053899765]},\n",
       " {'eval_exact_match': [80.88930936613056, 81.2961210974456, 81.20151371807],\n",
       "  'eval_f1': [88.4562154274226, 89.04475780185317, 89.05548149018428],\n",
       "  'eval_train_time': [2731.3763070106506,\n",
       "   2731.3531460762024,\n",
       "   2732.5005860328674]}]"
      ]
     },
     "execution_count": 4,
     "metadata": {},
     "output_type": "execute_result"
    }
   ],
   "source": [
    "res_dict['1gpu']"
   ]
  },
  {
   "cell_type": "code",
   "execution_count": 5,
   "metadata": {},
   "outputs": [
    {
     "data": {
      "text/plain": [
       "{'eval_exact_match': 0.8325449385052034,\n",
       " 'eval_f1': 8.960882770182382,\n",
       " 'eval_train_time': 701.0928683280945}"
      ]
     },
     "execution_count": 5,
     "metadata": {},
     "output_type": "execute_result"
    }
   ],
   "source": [
    "tmp"
   ]
  },
  {
   "cell_type": "code",
   "execution_count": 6,
   "metadata": {
    "scrolled": true
   },
   "outputs": [
    {
     "data": {
      "text/plain": [
       "{'1gpu': ['f1=80.04/80.27', 'f1=88.85/89.06'],\n",
       " 'accum_steps_1': ['f1=79.3/79.81 1.5x', 'f1=32.83/87.76 1.4x'],\n",
       " 'accum_steps_2': ['f1=79.96/80.13 2.2x', 'f1=88.34/88.49 2.2x'],\n",
       " 'accum_steps_4': ['f1=76.85/77.8 3.0x', 'f1=87.93/88.68 3.0x'],\n",
       " 'accum_steps_8': ['f1=75.48/75.85 3.8x', 'f1=88.05/88.48 3.8x'],\n",
       " 'accum_steps_16': ['f1=64.94/67.89 4.3x', 'f1=87.53/87.99 4.4x'],\n",
       " 'accum_steps_32': ['f1=19.43/30.17 4.6x', 'f1=86.61/87.06 4.8x'],\n",
       " 'accum_steps_64': ['f1=10.74/12.96 4.9x', 'f1=84.1/84.54 5.0x'],\n",
       " 'accum_steps_128': ['f1=8.31/9.3 5.0x', 'f1=58.5/76.43 5.1x'],\n",
       " 'accum_steps_256': ['f1=8.24/8.79 5.0x', 'f1=45.13/58.2 5.2x'],\n",
       " 'nosync_steps_1': ['f1=79.99/80.34 1.2x', 'f1=88.65/88.79 1.1x'],\n",
       " 'nosync_steps_2': ['f1=80.28/80.49 1.8x', 'f1=88.52/88.57 1.8x'],\n",
       " 'nosync_steps_4': ['f1=80.16/80.5 2.4x', 'f1=88.75/88.99 2.4x'],\n",
       " 'nosync_steps_8': ['f1=80.34/80.65 3.0x', 'f1=88.87/89.17 3.0x'],\n",
       " 'nosync_steps_16': ['f1=80.15/80.34 3.4x', 'f1=88.58/88.83 3.3x'],\n",
       " 'nosync_steps_32': ['f1=79.59/79.96 3.6x', 'f1=88.5/88.6 3.6x'],\n",
       " 'nosync_steps_64': ['f1=79.68/79.94 3.8x', 'f1=88.51/88.63 3.8x'],\n",
       " 'nosync_steps_128': ['f1=79.21/79.85 3.9x', 'f1=88.36/88.39 3.8x'],\n",
       " 'nosync_steps_256': ['f1=79.21/79.85 3.9x', 'f1=33.66/88.05 3.9x']}"
      ]
     },
     "execution_count": 6,
     "metadata": {},
     "output_type": "execute_result"
    }
   ],
   "source": [
    "import numpy as np\n",
    "\n",
    "res_dict_str = {k : [] for k in res_keys}\n",
    "\n",
    "for cidx, train_qty in enumerate([4000, 40000]):\n",
    "    for rk in res_keys:\n",
    "        speed_up = round(np.mean(res_dict['1gpu'][cidx]['eval_train_time']) / np.mean(res_dict[rk][cidx]['eval_train_time']), 1)\n",
    "        f1 = str(round(np.mean(res_dict[rk][cidx]['eval_f1']), 2)) +'/' +str(round(np.max(res_dict[rk][cidx]['eval_f1']), 2))\n",
    "        #print(rk, speed_up, f1)\n",
    "        if rk != '1gpu':\n",
    "            res_dict_str[rk].append(f'f1={f1} {speed_up}x')\n",
    "        else:\n",
    "            res_dict_str[rk].append(f'f1={f1}')  \n",
    "            \n",
    "            \n",
    "res_dict_str"
   ]
  },
  {
   "cell_type": "code",
   "execution_count": 7,
   "metadata": {},
   "outputs": [],
   "source": [
    "import pandas as pd\n",
    "df=pd.DataFrame.from_dict(res_dict_str)"
   ]
  },
  {
   "cell_type": "code",
   "execution_count": 8,
   "metadata": {},
   "outputs": [
    {
     "data": {
      "text/html": [
       "<div>\n",
       "<style scoped>\n",
       "    .dataframe tbody tr th:only-of-type {\n",
       "        vertical-align: middle;\n",
       "    }\n",
       "\n",
       "    .dataframe tbody tr th {\n",
       "        vertical-align: top;\n",
       "    }\n",
       "\n",
       "    .dataframe thead th {\n",
       "        text-align: right;\n",
       "    }\n",
       "</style>\n",
       "<table border=\"1\" class=\"dataframe\">\n",
       "  <thead>\n",
       "    <tr style=\"text-align: right;\">\n",
       "      <th></th>\n",
       "      <th>1gpu</th>\n",
       "      <th>accum_steps_1</th>\n",
       "      <th>accum_steps_2</th>\n",
       "      <th>accum_steps_4</th>\n",
       "      <th>accum_steps_8</th>\n",
       "      <th>accum_steps_16</th>\n",
       "      <th>accum_steps_32</th>\n",
       "      <th>accum_steps_64</th>\n",
       "      <th>accum_steps_128</th>\n",
       "      <th>accum_steps_256</th>\n",
       "      <th>nosync_steps_1</th>\n",
       "      <th>nosync_steps_2</th>\n",
       "      <th>nosync_steps_4</th>\n",
       "      <th>nosync_steps_8</th>\n",
       "      <th>nosync_steps_16</th>\n",
       "      <th>nosync_steps_32</th>\n",
       "      <th>nosync_steps_64</th>\n",
       "      <th>nosync_steps_128</th>\n",
       "      <th>nosync_steps_256</th>\n",
       "    </tr>\n",
       "  </thead>\n",
       "  <tbody>\n",
       "    <tr>\n",
       "      <th>0</th>\n",
       "      <td>f1=80.04/80.27</td>\n",
       "      <td>f1=79.3/79.81 1.5x</td>\n",
       "      <td>f1=79.96/80.13 2.2x</td>\n",
       "      <td>f1=76.85/77.8 3.0x</td>\n",
       "      <td>f1=75.48/75.85 3.8x</td>\n",
       "      <td>f1=64.94/67.89 4.3x</td>\n",
       "      <td>f1=19.43/30.17 4.6x</td>\n",
       "      <td>f1=10.74/12.96 4.9x</td>\n",
       "      <td>f1=8.31/9.3 5.0x</td>\n",
       "      <td>f1=8.24/8.79 5.0x</td>\n",
       "      <td>f1=79.99/80.34 1.2x</td>\n",
       "      <td>f1=80.28/80.49 1.8x</td>\n",
       "      <td>f1=80.16/80.5 2.4x</td>\n",
       "      <td>f1=80.34/80.65 3.0x</td>\n",
       "      <td>f1=80.15/80.34 3.4x</td>\n",
       "      <td>f1=79.59/79.96 3.6x</td>\n",
       "      <td>f1=79.68/79.94 3.8x</td>\n",
       "      <td>f1=79.21/79.85 3.9x</td>\n",
       "      <td>f1=79.21/79.85 3.9x</td>\n",
       "    </tr>\n",
       "    <tr>\n",
       "      <th>1</th>\n",
       "      <td>f1=88.85/89.06</td>\n",
       "      <td>f1=32.83/87.76 1.4x</td>\n",
       "      <td>f1=88.34/88.49 2.2x</td>\n",
       "      <td>f1=87.93/88.68 3.0x</td>\n",
       "      <td>f1=88.05/88.48 3.8x</td>\n",
       "      <td>f1=87.53/87.99 4.4x</td>\n",
       "      <td>f1=86.61/87.06 4.8x</td>\n",
       "      <td>f1=84.1/84.54 5.0x</td>\n",
       "      <td>f1=58.5/76.43 5.1x</td>\n",
       "      <td>f1=45.13/58.2 5.2x</td>\n",
       "      <td>f1=88.65/88.79 1.1x</td>\n",
       "      <td>f1=88.52/88.57 1.8x</td>\n",
       "      <td>f1=88.75/88.99 2.4x</td>\n",
       "      <td>f1=88.87/89.17 3.0x</td>\n",
       "      <td>f1=88.58/88.83 3.3x</td>\n",
       "      <td>f1=88.5/88.6 3.6x</td>\n",
       "      <td>f1=88.51/88.63 3.8x</td>\n",
       "      <td>f1=88.36/88.39 3.8x</td>\n",
       "      <td>f1=33.66/88.05 3.9x</td>\n",
       "    </tr>\n",
       "  </tbody>\n",
       "</table>\n",
       "</div>"
      ],
      "text/plain": [
       "             1gpu        accum_steps_1        accum_steps_2  \\\n",
       "0  f1=80.04/80.27   f1=79.3/79.81 1.5x  f1=79.96/80.13 2.2x   \n",
       "1  f1=88.85/89.06  f1=32.83/87.76 1.4x  f1=88.34/88.49 2.2x   \n",
       "\n",
       "         accum_steps_4        accum_steps_8       accum_steps_16  \\\n",
       "0   f1=76.85/77.8 3.0x  f1=75.48/75.85 3.8x  f1=64.94/67.89 4.3x   \n",
       "1  f1=87.93/88.68 3.0x  f1=88.05/88.48 3.8x  f1=87.53/87.99 4.4x   \n",
       "\n",
       "        accum_steps_32       accum_steps_64     accum_steps_128  \\\n",
       "0  f1=19.43/30.17 4.6x  f1=10.74/12.96 4.9x    f1=8.31/9.3 5.0x   \n",
       "1  f1=86.61/87.06 4.8x   f1=84.1/84.54 5.0x  f1=58.5/76.43 5.1x   \n",
       "\n",
       "      accum_steps_256       nosync_steps_1       nosync_steps_2  \\\n",
       "0   f1=8.24/8.79 5.0x  f1=79.99/80.34 1.2x  f1=80.28/80.49 1.8x   \n",
       "1  f1=45.13/58.2 5.2x  f1=88.65/88.79 1.1x  f1=88.52/88.57 1.8x   \n",
       "\n",
       "        nosync_steps_4       nosync_steps_8      nosync_steps_16  \\\n",
       "0   f1=80.16/80.5 2.4x  f1=80.34/80.65 3.0x  f1=80.15/80.34 3.4x   \n",
       "1  f1=88.75/88.99 2.4x  f1=88.87/89.17 3.0x  f1=88.58/88.83 3.3x   \n",
       "\n",
       "       nosync_steps_32      nosync_steps_64     nosync_steps_128  \\\n",
       "0  f1=79.59/79.96 3.6x  f1=79.68/79.94 3.8x  f1=79.21/79.85 3.9x   \n",
       "1    f1=88.5/88.6 3.6x  f1=88.51/88.63 3.8x  f1=88.36/88.39 3.8x   \n",
       "\n",
       "      nosync_steps_256  \n",
       "0  f1=79.21/79.85 3.9x  \n",
       "1  f1=33.66/88.05 3.9x  "
      ]
     },
     "execution_count": 8,
     "metadata": {},
     "output_type": "execute_result"
    }
   ],
   "source": [
    "df"
   ]
  },
  {
   "cell_type": "code",
   "execution_count": 9,
   "metadata": {},
   "outputs": [],
   "source": [
    "#df.to_csv('results.tsv')"
   ]
  },
  {
   "cell_type": "code",
   "execution_count": 10,
   "metadata": {},
   "outputs": [],
   "source": [
    "#!cat results.tsv"
   ]
  },
  {
   "cell_type": "code",
   "execution_count": null,
   "metadata": {},
   "outputs": [],
   "source": []
  }
 ],
 "metadata": {
  "kernelspec": {
   "display_name": "Python 3",
   "language": "python",
   "name": "python3"
  },
  "language_info": {
   "codemirror_mode": {
    "name": "ipython",
    "version": 3
   },
   "file_extension": ".py",
   "mimetype": "text/x-python",
   "name": "python",
   "nbconvert_exporter": "python",
   "pygments_lexer": "ipython3",
   "version": "3.8.5"
  }
 },
 "nbformat": 4,
 "nbformat_minor": 5
}
