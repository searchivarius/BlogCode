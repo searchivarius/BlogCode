{
 "cells": [
  {
   "cell_type": "markdown",
   "metadata": {},
   "source": [
    "Installation of necessary packages (and creation of a conda env):\n",
    "```\n",
    "./install_main.sh \n",
    "```"
   ]
  },
  {
   "cell_type": "markdown",
   "metadata": {},
   "source": [
    "Process results obtained via running command:\n",
    "```\n",
    "bash -i run_qa_main.sh\n",
    "```"
   ]
  },
  {
   "cell_type": "code",
   "execution_count": 1,
   "metadata": {},
   "outputs": [],
   "source": [
    "SEED_QTY=3\n",
    "OUTPUT_PREF='results_qa/output_res_'\n",
    "#OUTPUT_PREF='../test_accelerate/results/output_res_'"
   ]
  },
  {
   "cell_type": "code",
   "execution_count": 2,
   "metadata": {},
   "outputs": [],
   "source": [
    "#sync_step_arr = [1, 2, 4, 8, 16]\n",
    "sync_step_arr = [1, 2, 4, 8, 16, 32, 64, 128, 256]\n",
    "\n",
    "res_keys = ['1gpu'] + \\\n",
    "        [f'accum_steps_{k}' for k in sync_step_arr] + \\\n",
    "        [f'nosync_steps_{k}' for k in sync_step_arr]"
   ]
  },
  {
   "cell_type": "code",
   "execution_count": 3,
   "metadata": {},
   "outputs": [],
   "source": [
    "import json\n",
    "\n",
    "res_dict = {k : [] for k in res_keys}\n",
    "\n",
    "for train_qty in [4000, 40000]:\n",
    "    for rk in res_keys:\n",
    "        one_res = {}\n",
    "        \n",
    "        for seed in range(SEED_QTY):\n",
    "            tmp = json.load(open(f'{OUTPUT_PREF}{train_qty}_{rk}/{seed}/all_results.json'))\n",
    "            if seed == 0:\n",
    "                for mk in tmp.keys():\n",
    "                    one_res[mk] = []\n",
    "\n",
    "            for mk in tmp.keys():\n",
    "                one_res[mk].append(tmp[mk])\n",
    "                 \n",
    "        res_dict[rk].append(one_res)\n",
    "    "
   ]
  },
  {
   "cell_type": "code",
   "execution_count": 4,
   "metadata": {},
   "outputs": [
    {
     "data": {
      "text/plain": [
       "[{'eval_exact_match': [69.65941343424787,\n",
       "   69.78240302743615,\n",
       "   69.57426679280984],\n",
       "  'eval_f1': [80.26637915296253, 80.08236129993176, 79.77908879505684],\n",
       "  'eval_train_time': [294.5597097873688,\n",
       "   294.7031977176666,\n",
       "   294.03918075561523]},\n",
       " {'eval_exact_match': [80.88930936613056, 81.2961210974456, 81.20151371807],\n",
       "  'eval_f1': [88.4562154274226, 89.04475780185317, 89.05548149018428],\n",
       "  'eval_train_time': [2748.6899106502533,\n",
       "   2749.4790568351746,\n",
       "   2739.752244949341]}]"
      ]
     },
     "execution_count": 4,
     "metadata": {},
     "output_type": "execute_result"
    }
   ],
   "source": [
    "res_dict['1gpu']"
   ]
  },
  {
   "cell_type": "code",
   "execution_count": 5,
   "metadata": {},
   "outputs": [
    {
     "data": {
      "text/plain": [
       "{'eval_exact_match': 0.07568590350047304,\n",
       " 'eval_f1': 6.14816425600873,\n",
       " 'eval_train_time': 711.9177227020264}"
      ]
     },
     "execution_count": 5,
     "metadata": {},
     "output_type": "execute_result"
    }
   ],
   "source": [
    "tmp"
   ]
  },
  {
   "cell_type": "code",
   "execution_count": 6,
   "metadata": {
    "scrolled": true
   },
   "outputs": [
    {
     "data": {
      "text/plain": [
       "{'1gpu': ['f1=80.0/80.3', 'f1=88.9/89.1'],\n",
       " 'accum_steps_1': ['f1=55.5/80.5 1.4x', 'f1=32.7/87.8 1.3x'],\n",
       " 'accum_steps_2': ['f1=79.7/80.3 2.1x', 'f1=88.3/88.7 2.1x'],\n",
       " 'accum_steps_4': ['f1=78.3/78.4 3.0x', 'f1=88.6/88.8 2.9x'],\n",
       " 'accum_steps_8': ['f1=73.6/76.4 3.7x', 'f1=88.4/88.5 3.7x'],\n",
       " 'accum_steps_16': ['f1=61.5/68.3 4.2x', 'f1=87.6/88.2 4.3x'],\n",
       " 'accum_steps_32': ['f1=24.0/32.8 4.6x', 'f1=85.3/86.0 4.7x'],\n",
       " 'accum_steps_64': ['f1=12.0/13.3 4.8x', 'f1=82.4/83.8 4.9x'],\n",
       " 'accum_steps_128': ['f1=8.5/9.0 4.9x', 'f1=72.1/75.2 5.0x'],\n",
       " 'accum_steps_256': ['f1=8.5/9.0 4.9x', 'f1=40.8/56.6 5.1x'],\n",
       " 'nosync_steps_1': ['f1=80.1/80.3 1.2x', 'f1=88.8/88.8 1.1x'],\n",
       " 'nosync_steps_2': ['f1=80.0/80.3 1.8x', 'f1=88.8/88.8 1.7x'],\n",
       " 'nosync_steps_4': ['f1=80.1/80.2 2.4x', 'f1=88.8/88.8 2.4x'],\n",
       " 'nosync_steps_8': ['f1=80.1/80.5 3.0x', 'f1=88.6/88.7 2.9x'],\n",
       " 'nosync_steps_16': ['f1=80.0/80.2 3.4x', 'f1=88.7/88.8 3.3x'],\n",
       " 'nosync_steps_32': ['f1=79.8/80.2 3.6x', 'f1=88.7/88.7 3.6x'],\n",
       " 'nosync_steps_64': ['f1=78.1/79.1 3.8x', 'f1=88.2/88.5 3.7x'],\n",
       " 'nosync_steps_128': ['f1=34.0/56.3 3.9x', 'f1=61.0/88.7 3.8x'],\n",
       " 'nosync_steps_256': ['f1=34.0/56.3 4.0x', 'f1=23.6/57.6 3.9x']}"
      ]
     },
     "execution_count": 6,
     "metadata": {},
     "output_type": "execute_result"
    }
   ],
   "source": [
    "import numpy as np\n",
    "\n",
    "res_dict_str = {k : [] for k in res_keys}\n",
    "\n",
    "for cidx, train_qty in enumerate([4000, 40000]):\n",
    "    for rk in res_keys:\n",
    "        speed_up = round(np.mean(res_dict['1gpu'][cidx]['eval_train_time']) / np.mean(res_dict[rk][cidx]['eval_train_time']), 1)\n",
    "        f1 = str(round(np.mean(res_dict[rk][cidx]['eval_f1']), 1)) +'/' +str(round(np.max(res_dict[rk][cidx]['eval_f1']), 1))\n",
    "        #print(rk, speed_up, f1)\n",
    "        if rk != '1gpu':\n",
    "            res_dict_str[rk].append(f'f1={f1} {speed_up}x')\n",
    "        else:\n",
    "            res_dict_str[rk].append(f'f1={f1}')  \n",
    "            \n",
    "            \n",
    "res_dict_str"
   ]
  },
  {
   "cell_type": "code",
   "execution_count": 7,
   "metadata": {},
   "outputs": [],
   "source": [
    "import pandas as pd\n",
    "df=pd.DataFrame.from_dict(res_dict_str)"
   ]
  },
  {
   "cell_type": "code",
   "execution_count": 8,
   "metadata": {},
   "outputs": [
    {
     "data": {
      "text/html": [
       "<div>\n",
       "<style scoped>\n",
       "    .dataframe tbody tr th:only-of-type {\n",
       "        vertical-align: middle;\n",
       "    }\n",
       "\n",
       "    .dataframe tbody tr th {\n",
       "        vertical-align: top;\n",
       "    }\n",
       "\n",
       "    .dataframe thead th {\n",
       "        text-align: right;\n",
       "    }\n",
       "</style>\n",
       "<table border=\"1\" class=\"dataframe\">\n",
       "  <thead>\n",
       "    <tr style=\"text-align: right;\">\n",
       "      <th></th>\n",
       "      <th>1gpu</th>\n",
       "      <th>accum_steps_1</th>\n",
       "      <th>accum_steps_2</th>\n",
       "      <th>accum_steps_4</th>\n",
       "      <th>accum_steps_8</th>\n",
       "      <th>accum_steps_16</th>\n",
       "      <th>accum_steps_32</th>\n",
       "      <th>accum_steps_64</th>\n",
       "      <th>accum_steps_128</th>\n",
       "      <th>accum_steps_256</th>\n",
       "      <th>nosync_steps_1</th>\n",
       "      <th>nosync_steps_2</th>\n",
       "      <th>nosync_steps_4</th>\n",
       "      <th>nosync_steps_8</th>\n",
       "      <th>nosync_steps_16</th>\n",
       "      <th>nosync_steps_32</th>\n",
       "      <th>nosync_steps_64</th>\n",
       "      <th>nosync_steps_128</th>\n",
       "      <th>nosync_steps_256</th>\n",
       "    </tr>\n",
       "  </thead>\n",
       "  <tbody>\n",
       "    <tr>\n",
       "      <th>0</th>\n",
       "      <td>f1=80.0/80.3</td>\n",
       "      <td>f1=55.5/80.5 1.4x</td>\n",
       "      <td>f1=79.7/80.3 2.1x</td>\n",
       "      <td>f1=78.3/78.4 3.0x</td>\n",
       "      <td>f1=73.6/76.4 3.7x</td>\n",
       "      <td>f1=61.5/68.3 4.2x</td>\n",
       "      <td>f1=24.0/32.8 4.6x</td>\n",
       "      <td>f1=12.0/13.3 4.8x</td>\n",
       "      <td>f1=8.5/9.0 4.9x</td>\n",
       "      <td>f1=8.5/9.0 4.9x</td>\n",
       "      <td>f1=80.1/80.3 1.2x</td>\n",
       "      <td>f1=80.0/80.3 1.8x</td>\n",
       "      <td>f1=80.1/80.2 2.4x</td>\n",
       "      <td>f1=80.1/80.5 3.0x</td>\n",
       "      <td>f1=80.0/80.2 3.4x</td>\n",
       "      <td>f1=79.8/80.2 3.6x</td>\n",
       "      <td>f1=78.1/79.1 3.8x</td>\n",
       "      <td>f1=34.0/56.3 3.9x</td>\n",
       "      <td>f1=34.0/56.3 4.0x</td>\n",
       "    </tr>\n",
       "    <tr>\n",
       "      <th>1</th>\n",
       "      <td>f1=88.9/89.1</td>\n",
       "      <td>f1=32.7/87.8 1.3x</td>\n",
       "      <td>f1=88.3/88.7 2.1x</td>\n",
       "      <td>f1=88.6/88.8 2.9x</td>\n",
       "      <td>f1=88.4/88.5 3.7x</td>\n",
       "      <td>f1=87.6/88.2 4.3x</td>\n",
       "      <td>f1=85.3/86.0 4.7x</td>\n",
       "      <td>f1=82.4/83.8 4.9x</td>\n",
       "      <td>f1=72.1/75.2 5.0x</td>\n",
       "      <td>f1=40.8/56.6 5.1x</td>\n",
       "      <td>f1=88.8/88.8 1.1x</td>\n",
       "      <td>f1=88.8/88.8 1.7x</td>\n",
       "      <td>f1=88.8/88.8 2.4x</td>\n",
       "      <td>f1=88.6/88.7 2.9x</td>\n",
       "      <td>f1=88.7/88.8 3.3x</td>\n",
       "      <td>f1=88.7/88.7 3.6x</td>\n",
       "      <td>f1=88.2/88.5 3.7x</td>\n",
       "      <td>f1=61.0/88.7 3.8x</td>\n",
       "      <td>f1=23.6/57.6 3.9x</td>\n",
       "    </tr>\n",
       "  </tbody>\n",
       "</table>\n",
       "</div>"
      ],
      "text/plain": [
       "           1gpu      accum_steps_1      accum_steps_2      accum_steps_4  \\\n",
       "0  f1=80.0/80.3  f1=55.5/80.5 1.4x  f1=79.7/80.3 2.1x  f1=78.3/78.4 3.0x   \n",
       "1  f1=88.9/89.1  f1=32.7/87.8 1.3x  f1=88.3/88.7 2.1x  f1=88.6/88.8 2.9x   \n",
       "\n",
       "       accum_steps_8     accum_steps_16     accum_steps_32     accum_steps_64  \\\n",
       "0  f1=73.6/76.4 3.7x  f1=61.5/68.3 4.2x  f1=24.0/32.8 4.6x  f1=12.0/13.3 4.8x   \n",
       "1  f1=88.4/88.5 3.7x  f1=87.6/88.2 4.3x  f1=85.3/86.0 4.7x  f1=82.4/83.8 4.9x   \n",
       "\n",
       "     accum_steps_128    accum_steps_256     nosync_steps_1     nosync_steps_2  \\\n",
       "0    f1=8.5/9.0 4.9x    f1=8.5/9.0 4.9x  f1=80.1/80.3 1.2x  f1=80.0/80.3 1.8x   \n",
       "1  f1=72.1/75.2 5.0x  f1=40.8/56.6 5.1x  f1=88.8/88.8 1.1x  f1=88.8/88.8 1.7x   \n",
       "\n",
       "      nosync_steps_4     nosync_steps_8    nosync_steps_16    nosync_steps_32  \\\n",
       "0  f1=80.1/80.2 2.4x  f1=80.1/80.5 3.0x  f1=80.0/80.2 3.4x  f1=79.8/80.2 3.6x   \n",
       "1  f1=88.8/88.8 2.4x  f1=88.6/88.7 2.9x  f1=88.7/88.8 3.3x  f1=88.7/88.7 3.6x   \n",
       "\n",
       "     nosync_steps_64   nosync_steps_128   nosync_steps_256  \n",
       "0  f1=78.1/79.1 3.8x  f1=34.0/56.3 3.9x  f1=34.0/56.3 4.0x  \n",
       "1  f1=88.2/88.5 3.7x  f1=61.0/88.7 3.8x  f1=23.6/57.6 3.9x  "
      ]
     },
     "execution_count": 8,
     "metadata": {},
     "output_type": "execute_result"
    }
   ],
   "source": [
    "df"
   ]
  },
  {
   "cell_type": "code",
   "execution_count": 9,
   "metadata": {},
   "outputs": [],
   "source": [
    "#df.to_csv('results.tsv')"
   ]
  },
  {
   "cell_type": "code",
   "execution_count": 11,
   "metadata": {},
   "outputs": [],
   "source": [
    "#!cat results.tsv"
   ]
  },
  {
   "cell_type": "code",
   "execution_count": null,
   "metadata": {},
   "outputs": [],
   "source": []
  }
 ],
 "metadata": {
  "kernelspec": {
   "display_name": "Python 3",
   "language": "python",
   "name": "python3"
  },
  "language_info": {
   "codemirror_mode": {
    "name": "ipython",
    "version": 3
   },
   "file_extension": ".py",
   "mimetype": "text/x-python",
   "name": "python",
   "nbconvert_exporter": "python",
   "pygments_lexer": "ipython3",
   "version": "3.8.5"
  }
 },
 "nbformat": 4,
 "nbformat_minor": 5
}
